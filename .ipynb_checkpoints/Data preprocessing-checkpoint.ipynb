{
 "cells": [
  {
   "cell_type": "code",
   "execution_count": 60,
   "id": "4ea43eb6",
   "metadata": {},
   "outputs": [],
   "source": [
    "# importing library\n",
    "\n",
    "import pandas as pd\n",
    "import numpy as np"
   ]
  },
  {
   "cell_type": "code",
   "execution_count": 61,
   "id": "abf25451",
   "metadata": {},
   "outputs": [
    {
     "name": "stdout",
     "output_type": "stream",
     "text": [
      "<class 'pandas.core.frame.DataFrame'>\n",
      "RangeIndex: 700 entries, 0 to 699\n",
      "Data columns (total 12 columns):\n",
      " #   Column                     Non-Null Count  Dtype  \n",
      "---  ------                     --------------  -----  \n",
      " 0   ID                         700 non-null    int64  \n",
      " 1   Reason for Absence         700 non-null    int64  \n",
      " 2   Date                       700 non-null    object \n",
      " 3   Transportation Expense     700 non-null    int64  \n",
      " 4   Distance to Work           700 non-null    int64  \n",
      " 5   Age                        700 non-null    int64  \n",
      " 6   Daily Work Load Average    700 non-null    float64\n",
      " 7   Body Mass Index            700 non-null    int64  \n",
      " 8   Education                  700 non-null    int64  \n",
      " 9   Children                   700 non-null    int64  \n",
      " 10  Pets                       700 non-null    int64  \n",
      " 11  Absenteeism Time in Hours  700 non-null    int64  \n",
      "dtypes: float64(1), int64(10), object(1)\n",
      "memory usage: 65.8+ KB\n"
     ]
    }
   ],
   "source": [
    "raw_data = pd.read_csv('Absenteeism_data.csv')\n",
    "raw_data.info()"
   ]
  },
  {
   "cell_type": "code",
   "execution_count": 62,
   "id": "a92dbf47",
   "metadata": {},
   "outputs": [],
   "source": [
    "df = raw_data.copy()"
   ]
  },
  {
   "cell_type": "code",
   "execution_count": 4,
   "id": "6912e763",
   "metadata": {},
   "outputs": [],
   "source": [
    "df = df.drop(['ID'], axis=1)"
   ]
  },
  {
   "cell_type": "code",
   "execution_count": 5,
   "id": "2f8a4322",
   "metadata": {},
   "outputs": [],
   "source": [
    "# working on date\n",
    "df['Date'] = pd.to_datetime(df['Date'], format='%d/%m/%Y')"
   ]
  },
  {
   "cell_type": "code",
   "execution_count": 6,
   "id": "dac0c2ac",
   "metadata": {},
   "outputs": [
    {
     "data": {
      "text/plain": [
       "0     2015-07-07\n",
       "1     2015-07-14\n",
       "2     2015-07-15\n",
       "3     2015-07-16\n",
       "4     2015-07-23\n",
       "         ...    \n",
       "695   2018-05-23\n",
       "696   2018-05-23\n",
       "697   2018-05-24\n",
       "698   2018-05-24\n",
       "699   2018-05-31\n",
       "Name: Date, Length: 700, dtype: datetime64[ns]"
      ]
     },
     "execution_count": 6,
     "metadata": {},
     "output_type": "execute_result"
    }
   ],
   "source": [
    "df['Date']"
   ]
  },
  {
   "cell_type": "code",
   "execution_count": 7,
   "id": "cc0d6873",
   "metadata": {},
   "outputs": [],
   "source": [
    "# Relevant functions\n",
    "def to_month(n):\n",
    "    return n.month\n",
    "def to_weekday(n):\n",
    "    return n.weekday()\n",
    "    "
   ]
  },
  {
   "cell_type": "code",
   "execution_count": 8,
   "id": "3ee34223",
   "metadata": {},
   "outputs": [],
   "source": [
    "df['Month value'] = df['Date'].apply(to_month)\n",
    "df[\"Day of the week\"] = df['Date'].apply(to_weekday)"
   ]
  },
  {
   "cell_type": "code",
   "execution_count": 9,
   "id": "8fd94e78",
   "metadata": {},
   "outputs": [],
   "source": [
    "df = df.drop(['Date'], axis=1)"
   ]
  },
  {
   "cell_type": "code",
   "execution_count": 10,
   "id": "2fa972a2",
   "metadata": {},
   "outputs": [],
   "source": [
    "# Working on Education{0: lower education, 1: Higher education}\n",
    "df_with_education = df.copy()"
   ]
  },
  {
   "cell_type": "code",
   "execution_count": 12,
   "id": "fa7d9f08",
   "metadata": {},
   "outputs": [],
   "source": [
    "df_with_education['Education'] = df_with_education['Education'].map({1:0,2:1,3:1,4:1}) "
   ]
  },
  {
   "cell_type": "code",
   "execution_count": 15,
   "id": "22eb5b2b",
   "metadata": {},
   "outputs": [],
   "source": [
    "# working on Asenteeism time in Hours. if the absenteeism is greater than the median it was  major absenteeism otherwise minor\n",
    "df_with_absenteeism = df_with_education.copy()"
   ]
  },
  {
   "cell_type": "code",
   "execution_count": 22,
   "id": "e2655031",
   "metadata": {},
   "outputs": [
    {
     "data": {
      "text/plain": [
       "3.0"
      ]
     },
     "execution_count": 22,
     "metadata": {},
     "output_type": "execute_result"
    }
   ],
   "source": [
    "df_with_absenteeism['Absenteeism Time in Hours'].median()"
   ]
  },
  {
   "cell_type": "code",
   "execution_count": 23,
   "id": "e8743d89",
   "metadata": {},
   "outputs": [],
   "source": [
    "absenteeism = np.where(df_with_absenteeism['Absenteeism Time in Hours'] > df_with_absenteeism['Absenteeism Time in Hours'].median(),1,0)"
   ]
  },
  {
   "cell_type": "code",
   "execution_count": 25,
   "id": "9a2fd862",
   "metadata": {},
   "outputs": [],
   "source": [
    "df_with_absenteeism['Absenteeism'] = absenteeism"
   ]
  },
  {
   "cell_type": "code",
   "execution_count": 26,
   "id": "8afb5d8b",
   "metadata": {},
   "outputs": [],
   "source": [
    "df_with_absenteeism = df_with_absenteeism.drop(['Absenteeism Time in Hours'], axis = 1)"
   ]
  },
  {
   "cell_type": "code",
   "execution_count": 27,
   "id": "a5eef47f",
   "metadata": {},
   "outputs": [
    {
     "data": {
      "text/html": [
       "<div>\n",
       "<style scoped>\n",
       "    .dataframe tbody tr th:only-of-type {\n",
       "        vertical-align: middle;\n",
       "    }\n",
       "\n",
       "    .dataframe tbody tr th {\n",
       "        vertical-align: top;\n",
       "    }\n",
       "\n",
       "    .dataframe thead th {\n",
       "        text-align: right;\n",
       "    }\n",
       "</style>\n",
       "<table border=\"1\" class=\"dataframe\">\n",
       "  <thead>\n",
       "    <tr style=\"text-align: right;\">\n",
       "      <th></th>\n",
       "      <th>Reason for Absence</th>\n",
       "      <th>Transportation Expense</th>\n",
       "      <th>Distance to Work</th>\n",
       "      <th>Age</th>\n",
       "      <th>Daily Work Load Average</th>\n",
       "      <th>Body Mass Index</th>\n",
       "      <th>Education</th>\n",
       "      <th>Children</th>\n",
       "      <th>Pets</th>\n",
       "      <th>Month value</th>\n",
       "      <th>Day of the week</th>\n",
       "      <th>Absenteeism</th>\n",
       "    </tr>\n",
       "  </thead>\n",
       "  <tbody>\n",
       "    <tr>\n",
       "      <th>0</th>\n",
       "      <td>26</td>\n",
       "      <td>289</td>\n",
       "      <td>36</td>\n",
       "      <td>33</td>\n",
       "      <td>239.554</td>\n",
       "      <td>30</td>\n",
       "      <td>0</td>\n",
       "      <td>2</td>\n",
       "      <td>1</td>\n",
       "      <td>7</td>\n",
       "      <td>1</td>\n",
       "      <td>1</td>\n",
       "    </tr>\n",
       "    <tr>\n",
       "      <th>1</th>\n",
       "      <td>0</td>\n",
       "      <td>118</td>\n",
       "      <td>13</td>\n",
       "      <td>50</td>\n",
       "      <td>239.554</td>\n",
       "      <td>31</td>\n",
       "      <td>0</td>\n",
       "      <td>1</td>\n",
       "      <td>0</td>\n",
       "      <td>7</td>\n",
       "      <td>1</td>\n",
       "      <td>0</td>\n",
       "    </tr>\n",
       "    <tr>\n",
       "      <th>2</th>\n",
       "      <td>23</td>\n",
       "      <td>179</td>\n",
       "      <td>51</td>\n",
       "      <td>38</td>\n",
       "      <td>239.554</td>\n",
       "      <td>31</td>\n",
       "      <td>0</td>\n",
       "      <td>0</td>\n",
       "      <td>0</td>\n",
       "      <td>7</td>\n",
       "      <td>2</td>\n",
       "      <td>0</td>\n",
       "    </tr>\n",
       "    <tr>\n",
       "      <th>3</th>\n",
       "      <td>7</td>\n",
       "      <td>279</td>\n",
       "      <td>5</td>\n",
       "      <td>39</td>\n",
       "      <td>239.554</td>\n",
       "      <td>24</td>\n",
       "      <td>0</td>\n",
       "      <td>2</td>\n",
       "      <td>0</td>\n",
       "      <td>7</td>\n",
       "      <td>3</td>\n",
       "      <td>1</td>\n",
       "    </tr>\n",
       "    <tr>\n",
       "      <th>4</th>\n",
       "      <td>23</td>\n",
       "      <td>289</td>\n",
       "      <td>36</td>\n",
       "      <td>33</td>\n",
       "      <td>239.554</td>\n",
       "      <td>30</td>\n",
       "      <td>0</td>\n",
       "      <td>2</td>\n",
       "      <td>1</td>\n",
       "      <td>7</td>\n",
       "      <td>3</td>\n",
       "      <td>0</td>\n",
       "    </tr>\n",
       "    <tr>\n",
       "      <th>...</th>\n",
       "      <td>...</td>\n",
       "      <td>...</td>\n",
       "      <td>...</td>\n",
       "      <td>...</td>\n",
       "      <td>...</td>\n",
       "      <td>...</td>\n",
       "      <td>...</td>\n",
       "      <td>...</td>\n",
       "      <td>...</td>\n",
       "      <td>...</td>\n",
       "      <td>...</td>\n",
       "      <td>...</td>\n",
       "    </tr>\n",
       "    <tr>\n",
       "      <th>695</th>\n",
       "      <td>10</td>\n",
       "      <td>179</td>\n",
       "      <td>22</td>\n",
       "      <td>40</td>\n",
       "      <td>237.656</td>\n",
       "      <td>22</td>\n",
       "      <td>1</td>\n",
       "      <td>2</td>\n",
       "      <td>0</td>\n",
       "      <td>5</td>\n",
       "      <td>2</td>\n",
       "      <td>1</td>\n",
       "    </tr>\n",
       "    <tr>\n",
       "      <th>696</th>\n",
       "      <td>6</td>\n",
       "      <td>225</td>\n",
       "      <td>26</td>\n",
       "      <td>28</td>\n",
       "      <td>237.656</td>\n",
       "      <td>24</td>\n",
       "      <td>0</td>\n",
       "      <td>1</td>\n",
       "      <td>2</td>\n",
       "      <td>5</td>\n",
       "      <td>2</td>\n",
       "      <td>0</td>\n",
       "    </tr>\n",
       "    <tr>\n",
       "      <th>697</th>\n",
       "      <td>10</td>\n",
       "      <td>330</td>\n",
       "      <td>16</td>\n",
       "      <td>28</td>\n",
       "      <td>237.656</td>\n",
       "      <td>25</td>\n",
       "      <td>1</td>\n",
       "      <td>0</td>\n",
       "      <td>0</td>\n",
       "      <td>5</td>\n",
       "      <td>3</td>\n",
       "      <td>1</td>\n",
       "    </tr>\n",
       "    <tr>\n",
       "      <th>698</th>\n",
       "      <td>23</td>\n",
       "      <td>235</td>\n",
       "      <td>16</td>\n",
       "      <td>32</td>\n",
       "      <td>237.656</td>\n",
       "      <td>25</td>\n",
       "      <td>1</td>\n",
       "      <td>0</td>\n",
       "      <td>0</td>\n",
       "      <td>5</td>\n",
       "      <td>3</td>\n",
       "      <td>0</td>\n",
       "    </tr>\n",
       "    <tr>\n",
       "      <th>699</th>\n",
       "      <td>28</td>\n",
       "      <td>291</td>\n",
       "      <td>31</td>\n",
       "      <td>40</td>\n",
       "      <td>237.656</td>\n",
       "      <td>25</td>\n",
       "      <td>0</td>\n",
       "      <td>1</td>\n",
       "      <td>1</td>\n",
       "      <td>5</td>\n",
       "      <td>3</td>\n",
       "      <td>0</td>\n",
       "    </tr>\n",
       "  </tbody>\n",
       "</table>\n",
       "<p>700 rows × 12 columns</p>\n",
       "</div>"
      ],
      "text/plain": [
       "     Reason for Absence  Transportation Expense  Distance to Work  Age  \\\n",
       "0                    26                     289                36   33   \n",
       "1                     0                     118                13   50   \n",
       "2                    23                     179                51   38   \n",
       "3                     7                     279                 5   39   \n",
       "4                    23                     289                36   33   \n",
       "..                  ...                     ...               ...  ...   \n",
       "695                  10                     179                22   40   \n",
       "696                   6                     225                26   28   \n",
       "697                  10                     330                16   28   \n",
       "698                  23                     235                16   32   \n",
       "699                  28                     291                31   40   \n",
       "\n",
       "     Daily Work Load Average  Body Mass Index  Education  Children  Pets  \\\n",
       "0                    239.554               30          0         2     1   \n",
       "1                    239.554               31          0         1     0   \n",
       "2                    239.554               31          0         0     0   \n",
       "3                    239.554               24          0         2     0   \n",
       "4                    239.554               30          0         2     1   \n",
       "..                       ...              ...        ...       ...   ...   \n",
       "695                  237.656               22          1         2     0   \n",
       "696                  237.656               24          0         1     2   \n",
       "697                  237.656               25          1         0     0   \n",
       "698                  237.656               25          1         0     0   \n",
       "699                  237.656               25          0         1     1   \n",
       "\n",
       "     Month value  Day of the week  Absenteeism  \n",
       "0              7                1            1  \n",
       "1              7                1            0  \n",
       "2              7                2            0  \n",
       "3              7                3            1  \n",
       "4              7                3            0  \n",
       "..           ...              ...          ...  \n",
       "695            5                2            1  \n",
       "696            5                2            0  \n",
       "697            5                3            1  \n",
       "698            5                3            0  \n",
       "699            5                3            0  \n",
       "\n",
       "[700 rows x 12 columns]"
      ]
     },
     "execution_count": 27,
     "metadata": {},
     "output_type": "execute_result"
    }
   ],
   "source": [
    "df_with_absenteeism"
   ]
  },
  {
   "cell_type": "code",
   "execution_count": 28,
   "id": "f658cad6",
   "metadata": {},
   "outputs": [],
   "source": [
    "# Working with Reason for Absence\n",
    "\n",
    "\n",
    "\n",
    "df_with_reason = df_with_absenteeism.copy()"
   ]
  },
  {
   "cell_type": "code",
   "execution_count": 30,
   "id": "1c324e48",
   "metadata": {},
   "outputs": [],
   "source": [
    "reasons = pd.get_dummies(df_with_reason['Reason for Absence'])"
   ]
  },
  {
   "cell_type": "code",
   "execution_count": 32,
   "id": "9336078c",
   "metadata": {},
   "outputs": [
    {
     "data": {
      "text/plain": [
       "Int64Index([ 0,  1,  2,  3,  4,  5,  6,  7,  8,  9, 10, 11, 12, 13, 14, 15, 16,\n",
       "            17, 18, 19, 21, 22, 23, 24, 25, 26, 27, 28],\n",
       "           dtype='int64')"
      ]
     },
     "execution_count": 32,
     "metadata": {},
     "output_type": "execute_result"
    }
   ],
   "source": [
    "reasons.columns.unique()\n",
    "\n",
    "# The resons have been divided into four categoties"
   ]
  },
  {
   "cell_type": "code",
   "execution_count": 33,
   "id": "5499fa1a",
   "metadata": {},
   "outputs": [],
   "source": [
    "reason_type1 = reasons.loc[:,1:14].max(axis = 1)\n",
    "reason_type2 = reasons.loc[:,15:17].max(axis = 1)\n",
    "reason_type3 = reasons.loc[:,18:21].max(axis = 1)\n",
    "reason_type4 = reasons.loc[:,22:28].max(axis = 1)"
   ]
  },
  {
   "cell_type": "code",
   "execution_count": 42,
   "id": "eca76cee",
   "metadata": {},
   "outputs": [],
   "source": [
    "df_with_reasons = pd.concat([df_with_reason, reason_type1,reason_type2,reason_type3,reason_type4], axis = 1)"
   ]
  },
  {
   "cell_type": "code",
   "execution_count": 44,
   "id": "db8a6663",
   "metadata": {},
   "outputs": [],
   "source": [
    "df_with_reasons = df_with_reasons.drop(['Reason for Absence'], axis = 1)"
   ]
  },
  {
   "cell_type": "code",
   "execution_count": 45,
   "id": "98b905d3",
   "metadata": {},
   "outputs": [
    {
     "data": {
      "text/plain": [
       "array(['Transportation Expense', 'Distance to Work', 'Age',\n",
       "       'Daily Work Load Average', 'Body Mass Index', 'Education',\n",
       "       'Children', 'Pets', 'Month value', 'Day of the week',\n",
       "       'Absenteeism', 0, 1, 2, 3], dtype=object)"
      ]
     },
     "execution_count": 45,
     "metadata": {},
     "output_type": "execute_result"
    }
   ],
   "source": [
    "df_with_reasons.columns.values"
   ]
  },
  {
   "cell_type": "code",
   "execution_count": 46,
   "id": "8fc705dc",
   "metadata": {},
   "outputs": [],
   "source": [
    "column_rename = ['Transportation Expense', 'Distance to Work', 'Age',\n",
    "       'Daily Work Load Average', 'Body Mass Index', 'Education',\n",
    "       'Children', 'Pets', 'Month value', 'Day of the week',\n",
    "       'Absenteeism', 'reason_type1', 'reason_type2', 'reason_type3', 'reason_type4']"
   ]
  },
  {
   "cell_type": "code",
   "execution_count": 49,
   "id": "48333388",
   "metadata": {},
   "outputs": [],
   "source": [
    "df_with_reasons.columns = column_rename"
   ]
  },
  {
   "cell_type": "code",
   "execution_count": 51,
   "id": "331bfa1b",
   "metadata": {},
   "outputs": [
    {
     "data": {
      "text/plain": [
       "array(['Transportation Expense', 'Distance to Work', 'Age',\n",
       "       'Daily Work Load Average', 'Body Mass Index', 'Education',\n",
       "       'Children', 'Pets', 'Month value', 'Day of the week',\n",
       "       'Absenteeism', 'reason_type1', 'reason_type2', 'reason_type3',\n",
       "       'reason_type4'], dtype=object)"
      ]
     },
     "execution_count": 51,
     "metadata": {},
     "output_type": "execute_result"
    }
   ],
   "source": [
    "df_with_reasons.columns.values"
   ]
  },
  {
   "cell_type": "code",
   "execution_count": 56,
   "id": "2fe70726",
   "metadata": {},
   "outputs": [],
   "source": [
    "df_preprocessed = df_with_reasons[['reason_type1', 'reason_type2', 'reason_type3',\n",
    "        'reason_type4', 'Month value', 'Day of the week','Transportation Expense', 'Distance to Work', 'Age',\n",
    "        'Daily Work Load Average', 'Body Mass Index', 'Education','Children', 'Pets','Absenteeism']]"
   ]
  },
  {
   "cell_type": "code",
   "execution_count": 59,
   "id": "af4d859f",
   "metadata": {},
   "outputs": [],
   "source": [
    "df_preprocessed.to_csv('df_preprocessed.csv')"
   ]
  },
  {
   "cell_type": "code",
   "execution_count": null,
   "id": "21802b3e",
   "metadata": {},
   "outputs": [],
   "source": []
  }
 ],
 "metadata": {
  "kernelspec": {
   "display_name": "Python 3 (ipykernel)",
   "language": "python",
   "name": "python3"
  },
  "language_info": {
   "codemirror_mode": {
    "name": "ipython",
    "version": 3
   },
   "file_extension": ".py",
   "mimetype": "text/x-python",
   "name": "python",
   "nbconvert_exporter": "python",
   "pygments_lexer": "ipython3",
   "version": "3.9.13"
  }
 },
 "nbformat": 4,
 "nbformat_minor": 5
}
