{
 "cells": [
  {
   "cell_type": "markdown",
   "id": "b01a517c",
   "metadata": {},
   "source": [
    "### The aim of this model is to predict if an employee will be absent for more than 3 hours during work hours"
   ]
  },
  {
   "cell_type": "code",
   "execution_count": 1,
   "id": "8402e5a6",
   "metadata": {},
   "outputs": [],
   "source": [
    "import pandas as pd\n",
    "import numpy as np\n",
    "from sklearn.preprocessing import StandardScaler\n",
    "from sklearn.compose import ColumnTransformer"
   ]
  },
  {
   "cell_type": "code",
   "execution_count": 2,
   "id": "891f143e",
   "metadata": {},
   "outputs": [],
   "source": [
    "processed_data = pd.read_csv('df_preprocessed.csv')\n"
   ]
  },
  {
   "cell_type": "code",
   "execution_count": 3,
   "id": "20d9803e",
   "metadata": {},
   "outputs": [],
   "source": [
    "target = processed_data['Absenteeism']"
   ]
  },
  {
   "cell_type": "markdown",
   "id": "4efd9bf9",
   "metadata": {},
   "source": [
    "### Feature Scaling"
   ]
  },
  {
   "cell_type": "code",
   "execution_count": 4,
   "id": "ff9ff36d",
   "metadata": {
    "scrolled": true
   },
   "outputs": [
    {
     "data": {
      "text/plain": [
       "array(['Unnamed: 0', 'reason_type1', 'reason_type2', 'reason_type3',\n",
       "       'reason_type4', 'Month value', 'Day of the week',\n",
       "       'Transportation Expense', 'Distance to Work', 'Age',\n",
       "       'Daily Work Load Average', 'Body Mass Index', 'Education',\n",
       "       'Children', 'Pets', 'Absenteeism'], dtype=object)"
      ]
     },
     "execution_count": 4,
     "metadata": {},
     "output_type": "execute_result"
    }
   ],
   "source": [
    "processed_data.columns.values"
   ]
  },
  {
   "cell_type": "code",
   "execution_count": 26,
   "id": "37492f53",
   "metadata": {},
   "outputs": [],
   "source": [
    "# Backward elimination...\n",
    "# column Day of the week','Daily Work Load Average','Distance to Work' ,\n",
    "# have very low coefficient. that is they have less effect on the Absenteeism\n",
    "# so it will be dropped\n"
   ]
  },
  {
   "cell_type": "code",
   "execution_count": 6,
   "id": "8f5e354b",
   "metadata": {},
   "outputs": [],
   "source": [
    "unscaled_features = processed_data.drop(['Unnamed: 0', 'Absenteeism','Day of the week',\n",
    "                                            'Daily Work Load Average','Distance to Work' ], axis = 1) "
   ]
  },
  {
   "cell_type": "code",
   "execution_count": 7,
   "id": "301c1c11",
   "metadata": {},
   "outputs": [],
   "source": [
    "# scalling only numerical features\n",
    "\n",
    "feature_scaler = ColumnTransformer(\n",
    "[('scaler', StandardScaler(),[ 'Month value',\n",
    "       'Transportation Expense', 'Age',\n",
    "        'Body Mass Index',\n",
    "       'Children', 'Pets'])], remainder='passthrough'\n",
    ")\n",
    "\n",
    "scaled_input = feature_scaler.fit_transform(unscaled_features)"
   ]
  },
  {
   "cell_type": "markdown",
   "id": "929793f3",
   "metadata": {},
   "source": [
    "### Train-Test split"
   ]
  },
  {
   "cell_type": "code",
   "execution_count": 8,
   "id": "a84dfc34",
   "metadata": {},
   "outputs": [],
   "source": [
    "from sklearn.model_selection import train_test_split"
   ]
  },
  {
   "cell_type": "code",
   "execution_count": 9,
   "id": "0ab5ae27",
   "metadata": {},
   "outputs": [],
   "source": [
    "x_train,x_test,y_train,y_test = train_test_split(scaled_input,target, train_size=0.8,random_state=20)"
   ]
  },
  {
   "cell_type": "markdown",
   "id": "2cdaa423",
   "metadata": {},
   "source": [
    "### Logistic Model"
   ]
  },
  {
   "cell_type": "code",
   "execution_count": 10,
   "id": "1dbc1923",
   "metadata": {},
   "outputs": [],
   "source": [
    "from sklearn.linear_model import LogisticRegression"
   ]
  },
  {
   "cell_type": "code",
   "execution_count": 11,
   "id": "ea3ed41f",
   "metadata": {},
   "outputs": [],
   "source": [
    "reg = LogisticRegression()"
   ]
  },
  {
   "cell_type": "code",
   "execution_count": 12,
   "id": "f5b95147",
   "metadata": {},
   "outputs": [
    {
     "data": {
      "text/plain": [
       "LogisticRegression()"
      ]
     },
     "execution_count": 12,
     "metadata": {},
     "output_type": "execute_result"
    }
   ],
   "source": [
    "reg.fit(x_train,y_train)"
   ]
  },
  {
   "cell_type": "code",
   "execution_count": 25,
   "id": "b9eb978b",
   "metadata": {},
   "outputs": [
    {
     "data": {
      "text/plain": [
       "0.7732142857142857"
      ]
     },
     "execution_count": 25,
     "metadata": {},
     "output_type": "execute_result"
    }
   ],
   "source": [
    "train_accuracy = reg.score(x_train,y_train)\n",
    "train_accuracy"
   ]
  },
  {
   "cell_type": "markdown",
   "id": "2b00ba34",
   "metadata": {},
   "source": [
    "### Summary Table"
   ]
  },
  {
   "cell_type": "code",
   "execution_count": 14,
   "id": "839f31d5",
   "metadata": {},
   "outputs": [],
   "source": [
    "# Table with weight and bias of features"
   ]
  },
  {
   "cell_type": "code",
   "execution_count": 16,
   "id": "31f5f273",
   "metadata": {},
   "outputs": [],
   "source": [
    "summary = pd.DataFrame({'features': unscaled_features.columns.values})"
   ]
  },
  {
   "cell_type": "code",
   "execution_count": 17,
   "id": "42f6c4bc",
   "metadata": {},
   "outputs": [],
   "source": [
    "summary['Coefficient'] = np.transpose(reg.coef_)"
   ]
  },
  {
   "cell_type": "code",
   "execution_count": 18,
   "id": "4ee4f1fc",
   "metadata": {},
   "outputs": [],
   "source": [
    "summary.index = summary.index + 1\n",
    "summary.loc[0] = ['intercept', reg.intercept_[0]]\n"
   ]
  },
  {
   "cell_type": "code",
   "execution_count": 19,
   "id": "6edf8d35",
   "metadata": {},
   "outputs": [],
   "source": [
    "summary['Log odds'] = np.exp(summary['Coefficient'])"
   ]
  },
  {
   "cell_type": "code",
   "execution_count": 20,
   "id": "d4f7f836",
   "metadata": {},
   "outputs": [
    {
     "data": {
      "text/html": [
       "<div>\n",
       "<style scoped>\n",
       "    .dataframe tbody tr th:only-of-type {\n",
       "        vertical-align: middle;\n",
       "    }\n",
       "\n",
       "    .dataframe tbody tr th {\n",
       "        vertical-align: top;\n",
       "    }\n",
       "\n",
       "    .dataframe thead th {\n",
       "        text-align: right;\n",
       "    }\n",
       "</style>\n",
       "<table border=\"1\" class=\"dataframe\">\n",
       "  <thead>\n",
       "    <tr style=\"text-align: right;\">\n",
       "      <th></th>\n",
       "      <th>features</th>\n",
       "      <th>Coefficient</th>\n",
       "      <th>Log odds</th>\n",
       "    </tr>\n",
       "  </thead>\n",
       "  <tbody>\n",
       "    <tr>\n",
       "      <th>0</th>\n",
       "      <td>intercept</td>\n",
       "      <td>-1.647455</td>\n",
       "      <td>0.192539</td>\n",
       "    </tr>\n",
       "    <tr>\n",
       "      <th>1</th>\n",
       "      <td>reason_type1</td>\n",
       "      <td>0.158930</td>\n",
       "      <td>1.172256</td>\n",
       "    </tr>\n",
       "    <tr>\n",
       "      <th>2</th>\n",
       "      <td>reason_type2</td>\n",
       "      <td>0.605284</td>\n",
       "      <td>1.831773</td>\n",
       "    </tr>\n",
       "    <tr>\n",
       "      <th>3</th>\n",
       "      <td>reason_type3</td>\n",
       "      <td>-0.169891</td>\n",
       "      <td>0.843757</td>\n",
       "    </tr>\n",
       "    <tr>\n",
       "      <th>4</th>\n",
       "      <td>reason_type4</td>\n",
       "      <td>0.279811</td>\n",
       "      <td>1.322880</td>\n",
       "    </tr>\n",
       "    <tr>\n",
       "      <th>5</th>\n",
       "      <td>Month value</td>\n",
       "      <td>0.348262</td>\n",
       "      <td>1.416604</td>\n",
       "    </tr>\n",
       "    <tr>\n",
       "      <th>6</th>\n",
       "      <td>Transportation Expense</td>\n",
       "      <td>-0.277396</td>\n",
       "      <td>0.757754</td>\n",
       "    </tr>\n",
       "    <tr>\n",
       "      <th>7</th>\n",
       "      <td>Age</td>\n",
       "      <td>2.800197</td>\n",
       "      <td>16.447892</td>\n",
       "    </tr>\n",
       "    <tr>\n",
       "      <th>8</th>\n",
       "      <td>Body Mass Index</td>\n",
       "      <td>0.951884</td>\n",
       "      <td>2.590585</td>\n",
       "    </tr>\n",
       "    <tr>\n",
       "      <th>9</th>\n",
       "      <td>Education</td>\n",
       "      <td>3.115553</td>\n",
       "      <td>22.545903</td>\n",
       "    </tr>\n",
       "    <tr>\n",
       "      <th>10</th>\n",
       "      <td>Children</td>\n",
       "      <td>0.839001</td>\n",
       "      <td>2.314054</td>\n",
       "    </tr>\n",
       "    <tr>\n",
       "      <th>11</th>\n",
       "      <td>Pets</td>\n",
       "      <td>-0.210533</td>\n",
       "      <td>0.810152</td>\n",
       "    </tr>\n",
       "  </tbody>\n",
       "</table>\n",
       "</div>"
      ],
      "text/plain": [
       "                  features  Coefficient   Log odds\n",
       "0                intercept    -1.647455   0.192539\n",
       "1             reason_type1     0.158930   1.172256\n",
       "2             reason_type2     0.605284   1.831773\n",
       "3             reason_type3    -0.169891   0.843757\n",
       "4             reason_type4     0.279811   1.322880\n",
       "5              Month value     0.348262   1.416604\n",
       "6   Transportation Expense    -0.277396   0.757754\n",
       "7                      Age     2.800197  16.447892\n",
       "8          Body Mass Index     0.951884   2.590585\n",
       "9                Education     3.115553  22.545903\n",
       "10                Children     0.839001   2.314054\n",
       "11                    Pets    -0.210533   0.810152"
      ]
     },
     "execution_count": 20,
     "metadata": {},
     "output_type": "execute_result"
    }
   ],
   "source": [
    "summary.sort_index()"
   ]
  },
  {
   "cell_type": "markdown",
   "id": "c3ec537b",
   "metadata": {},
   "source": [
    "### Testing the model"
   ]
  },
  {
   "cell_type": "code",
   "execution_count": 21,
   "id": "e84dd4e8",
   "metadata": {},
   "outputs": [
    {
     "data": {
      "text/plain": [
       "0.75"
      ]
     },
     "execution_count": 21,
     "metadata": {},
     "output_type": "execute_result"
    }
   ],
   "source": [
    "test_accuracy = reg.score(x_test,y_test)\n",
    "test_accuracy"
   ]
  },
  {
   "cell_type": "markdown",
   "id": "1f967dd7",
   "metadata": {},
   "source": [
    "### Saving the model"
   ]
  },
  {
   "cell_type": "code",
   "execution_count": 22,
   "id": "b0bd668d",
   "metadata": {},
   "outputs": [],
   "source": [
    "import pickle"
   ]
  },
  {
   "cell_type": "code",
   "execution_count": 23,
   "id": "103164c0",
   "metadata": {},
   "outputs": [],
   "source": [
    "with open('model', 'wb') as file:\n",
    "    pickle.dump(reg, file)"
   ]
  },
  {
   "cell_type": "code",
   "execution_count": 24,
   "id": "342e4dad",
   "metadata": {},
   "outputs": [],
   "source": [
    "with open('scaler','wb') as file:\n",
    "    pickle.dump(feature_scaler, file)"
   ]
  },
  {
   "cell_type": "code",
   "execution_count": null,
   "id": "af9a2022",
   "metadata": {},
   "outputs": [],
   "source": []
  }
 ],
 "metadata": {
  "kernelspec": {
   "display_name": "Python 3 (ipykernel)",
   "language": "python",
   "name": "python3"
  },
  "language_info": {
   "codemirror_mode": {
    "name": "ipython",
    "version": 3
   },
   "file_extension": ".py",
   "mimetype": "text/x-python",
   "name": "python",
   "nbconvert_exporter": "python",
   "pygments_lexer": "ipython3",
   "version": "3.9.13"
  }
 },
 "nbformat": 4,
 "nbformat_minor": 5
}
